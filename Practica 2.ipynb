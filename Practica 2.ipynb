{
 "cells": [
  {
   "cell_type": "markdown",
   "id": "888309b5",
   "metadata": {},
   "source": [
    "# PRÁCTICA 2 - Evaluación de la relevancia de variables de entrada"
   ]
  },
  {
   "cell_type": "code",
   "execution_count": 433,
   "id": "e1c13caf",
   "metadata": {},
   "outputs": [
    {
     "data": {
      "text/html": [
       "<div>\n",
       "<style scoped>\n",
       "    .dataframe tbody tr th:only-of-type {\n",
       "        vertical-align: middle;\n",
       "    }\n",
       "\n",
       "    .dataframe tbody tr th {\n",
       "        vertical-align: top;\n",
       "    }\n",
       "\n",
       "    .dataframe thead th {\n",
       "        text-align: right;\n",
       "    }\n",
       "</style>\n",
       "<table border=\"1\" class=\"dataframe\">\n",
       "  <thead>\n",
       "    <tr style=\"text-align: right;\">\n",
       "      <th></th>\n",
       "      <th>x1</th>\n",
       "      <th>x2</th>\n",
       "      <th>x3</th>\n",
       "      <th>x4</th>\n",
       "      <th>x5</th>\n",
       "    </tr>\n",
       "  </thead>\n",
       "  <tbody>\n",
       "    <tr>\n",
       "      <th>0</th>\n",
       "      <td>0</td>\n",
       "      <td>0</td>\n",
       "      <td>1</td>\n",
       "      <td>1</td>\n",
       "      <td>0</td>\n",
       "    </tr>\n",
       "    <tr>\n",
       "      <th>1</th>\n",
       "      <td>1</td>\n",
       "      <td>0</td>\n",
       "      <td>0</td>\n",
       "      <td>0</td>\n",
       "      <td>1</td>\n",
       "    </tr>\n",
       "    <tr>\n",
       "      <th>2</th>\n",
       "      <td>1</td>\n",
       "      <td>0</td>\n",
       "      <td>1</td>\n",
       "      <td>1</td>\n",
       "      <td>0</td>\n",
       "    </tr>\n",
       "    <tr>\n",
       "      <th>3</th>\n",
       "      <td>0</td>\n",
       "      <td>1</td>\n",
       "      <td>1</td>\n",
       "      <td>0</td>\n",
       "      <td>1</td>\n",
       "    </tr>\n",
       "    <tr>\n",
       "      <th>4</th>\n",
       "      <td>1</td>\n",
       "      <td>0</td>\n",
       "      <td>1</td>\n",
       "      <td>1</td>\n",
       "      <td>1</td>\n",
       "    </tr>\n",
       "    <tr>\n",
       "      <th>...</th>\n",
       "      <td>...</td>\n",
       "      <td>...</td>\n",
       "      <td>...</td>\n",
       "      <td>...</td>\n",
       "      <td>...</td>\n",
       "    </tr>\n",
       "    <tr>\n",
       "      <th>95</th>\n",
       "      <td>1</td>\n",
       "      <td>1</td>\n",
       "      <td>1</td>\n",
       "      <td>0</td>\n",
       "      <td>1</td>\n",
       "    </tr>\n",
       "    <tr>\n",
       "      <th>96</th>\n",
       "      <td>0</td>\n",
       "      <td>0</td>\n",
       "      <td>1</td>\n",
       "      <td>1</td>\n",
       "      <td>1</td>\n",
       "    </tr>\n",
       "    <tr>\n",
       "      <th>97</th>\n",
       "      <td>0</td>\n",
       "      <td>0</td>\n",
       "      <td>0</td>\n",
       "      <td>0</td>\n",
       "      <td>0</td>\n",
       "    </tr>\n",
       "    <tr>\n",
       "      <th>98</th>\n",
       "      <td>0</td>\n",
       "      <td>1</td>\n",
       "      <td>0</td>\n",
       "      <td>1</td>\n",
       "      <td>1</td>\n",
       "    </tr>\n",
       "    <tr>\n",
       "      <th>99</th>\n",
       "      <td>0</td>\n",
       "      <td>0</td>\n",
       "      <td>1</td>\n",
       "      <td>1</td>\n",
       "      <td>0</td>\n",
       "    </tr>\n",
       "  </tbody>\n",
       "</table>\n",
       "<p>100 rows × 5 columns</p>\n",
       "</div>"
      ],
      "text/plain": [
       "    x1  x2  x3  x4  x5\n",
       "0    0   0   1   1   0\n",
       "1    1   0   0   0   1\n",
       "2    1   0   1   1   0\n",
       "3    0   1   1   0   1\n",
       "4    1   0   1   1   1\n",
       "..  ..  ..  ..  ..  ..\n",
       "95   1   1   1   0   1\n",
       "96   0   0   1   1   1\n",
       "97   0   0   0   0   0\n",
       "98   0   1   0   1   1\n",
       "99   0   0   1   1   0\n",
       "\n",
       "[100 rows x 5 columns]"
      ]
     },
     "execution_count": 433,
     "metadata": {},
     "output_type": "execute_result"
    }
   ],
   "source": [
    "import pandas as pd\n",
    "import numpy as np\n",
    "import seaborn as sns\n",
    "import matplotlib.pyplot as plt\n",
    "from sklearn.feature_selection import mutual_info_classif\n",
    "from sklearn.feature_selection import f_classif\n",
    "from sklearn.feature_selection import chi2\n",
    "from sklearn.feature_selection import SelectKBest\n",
    "from sklearn.model_selection import train_test_split\n",
    "from sklearn.feature_selection import VarianceThreshold\n",
    "from sklearn.preprocessing import StandardScaler\n",
    "from sklearn.linear_model import LogisticRegression\n",
    "from sklearn.svm import SVC\n",
    "from sklearn.ensemble import RandomForestClassifier\n",
    "from sklearn.tree import DecisionTreeClassifier\n",
    "from sklearn.metrics import roc_auc_score\n",
    "from mlxtend.feature_selection import SequentialFeatureSelector as SFS\n",
    "from sklearn.decomposition import PCA\n",
    "from sklearn.pipeline import make_pipeline\n",
    "from sklearn.preprocessing import StandardScaler\n",
    "from sklearn.preprocessing import scale\n",
    "from pandas.plotting import table \n",
    "\n",
    "%matplotlib inline\n",
    "\n",
    "x1 = np.random.choice([False, True], size=(100,)).astype(int)\n",
    "x2 = np.random.choice([False, True], size=(100,)).astype(int)\n",
    "x3 = np.random.choice([False, True], size=(100,)).astype(int)\n",
    "x4 = np.logical_xor(x2, x3).astype(int)\n",
    "x5 = np.random.choice([False, True], size=(100,)).astype(int)\n",
    "y = np.logical_xor.reduce((x1, x2, x3)).astype(int)\n",
    "\n",
    "x1 = x1.reshape(len(x1), 1)\n",
    "x2 = x2.reshape(len(x2), 1)\n",
    "x3 = x3.reshape(len(x3), 1)\n",
    "x4 = x4.reshape(len(x4), 1)\n",
    "x5 = x5.reshape(len(x5), 1)\n",
    "\n",
    "X = pd.DataFrame(np.concatenate((x1, x2, x3, x4, x5), axis=1), columns=[\"x1\", \"x2\", \"x3\", \"x4\", \"x5\"])\n",
    "X"
   ]
  },
  {
   "cell_type": "code",
   "execution_count": 434,
   "id": "c71d9a21",
   "metadata": {},
   "outputs": [
    {
     "data": {
      "image/png": "[encoded data removed]",
      "text/plain": [
       "<Figure size 864x216 with 1 Axes>"
      ]
     },
     "metadata": {
      "needs_background": "light"
     },
     "output_type": "display_data"
    }
   ],
   "source": [
    "XY = X.copy()\n",
    "XY['y'] = y.tolist()\n",
    "df = pd.DataFrame(XY)\n",
    "#set fig size\n",
    "fig, ax = plt.subplots(figsize=(12, 3)) \n",
    "# no axes\n",
    "ax.xaxis.set_visible(False)  \n",
    "ax.yaxis.set_visible(False)  \n",
    "# no frame\n",
    "ax.set_frame_on(False)  \n",
    "# plot table\n",
    "ax.axis('tight')\n",
    "ax.axis('off')\n",
    "ax.table(cellText=df.values[0:15],colLabels=df.columns,loc=\"center\")\n",
    "# save the result\n",
    "plt.savefig('dataset.png')        "
   ]
  },
  {
   "cell_type": "code",
   "execution_count": 435,
   "id": "63a311f3",
   "metadata": {},
   "outputs": [
    {
     "data": {
      "text/plain": [
       "x1    0.41\n",
       "x2    0.47\n",
       "x3    0.61\n",
       "x4    0.48\n",
       "x5    0.47\n",
       "dtype: float64"
      ]
     },
     "execution_count": 435,
     "metadata": {},
     "output_type": "execute_result"
    }
   ],
   "source": [
    "X.mean(axis=0)\n"
   ]
  },
  {
   "cell_type": "code",
   "execution_count": 436,
   "id": "91703e49",
   "metadata": {},
   "outputs": [
    {
     "data": {
      "text/plain": [
       "x1    0.244343\n",
       "x2    0.251616\n",
       "x3    0.240303\n",
       "x4    0.252121\n",
       "x5    0.251616\n",
       "dtype: float64"
      ]
     },
     "execution_count": 436,
     "metadata": {},
     "output_type": "execute_result"
    }
   ],
   "source": [
    "X.var(axis=0)"
   ]
  },
  {
   "cell_type": "code",
   "execution_count": 437,
   "id": "5b910518",
   "metadata": {},
   "outputs": [],
   "source": [
    "X_train, X_test, y_train, y_test = train_test_split(X, y, test_size = 0.2, random_state = 0)"
   ]
  },
  {
   "cell_type": "markdown",
   "id": "c0d2bd45",
   "metadata": {},
   "source": [
    "## Correlación"
   ]
  },
  {
   "cell_type": "code",
   "execution_count": 438,
   "id": "ce9655c9",
   "metadata": {},
   "outputs": [
    {
     "name": "stdout",
     "output_type": "stream",
     "text": [
      "          x1        x2        x3        x4        x5\n",
      "x1  1.000000  0.029738 -0.042102  0.013023  0.111214\n",
      "x2  0.029738  1.000000  0.054635 -0.222980  0.116821\n",
      "x3 -0.042102  0.054635  1.000000  0.070584 -0.027523\n",
      "x4  0.013023 -0.222980  0.070584  1.000000 -0.062563\n",
      "x5  0.111214  0.116821 -0.027523 -0.062563  1.000000\n",
      "Number of features to be extracted:  0\n"
     ]
    },
    {
     "data": {
      "image/png": "[encoded data removed]",
      "text/plain": [
       "<Figure size 792x792 with 2 Axes>"
      ]
     },
     "metadata": {
      "needs_background": "light"
     },
     "output_type": "display_data"
    }
   ],
   "source": [
    "X_corr = X.copy()\n",
    "\n",
    "def correlation(data, threshold):\n",
    "    col_corr = set() # all correlated columns.\n",
    "    corr_mat = data.corr(method='pearson')\n",
    "    # plot\n",
    "    fig, ax = plt.subplots()\n",
    "    fig.set_size_inches(11,11)\n",
    "    sns.heatmap(corr_mat)\n",
    "    for i in range(len(corr_mat.columns)):\n",
    "        for j in range(i):\n",
    "            if (corr_mat.iloc[i,j])> threshold:\t\n",
    "                colname = corr_mat.columns[i]\n",
    "                col_corr.add(colname)\n",
    "    print (corr_mat)\n",
    "    return col_corr\n",
    "corr_feats = correlation(X_corr, 0.8)\n",
    "print ('Number of features to be extracted: ',  len(corr_feats)) # Number of features to be extracted\n"
   ]
  },
  {
   "cell_type": "markdown",
   "id": "9b76e2ab",
   "metadata": {},
   "source": [
    "## Información mutua"
   ]
  },
  {
   "cell_type": "code",
   "execution_count": 439,
   "id": "a75f5861",
   "metadata": {},
   "outputs": [
    {
     "name": "stdout",
     "output_type": "stream",
     "text": [
      "Index(['x2', 'x3', 'x4'], dtype='object')\n"
     ]
    }
   ],
   "source": [
    "X_mut = X.copy()\n",
    "y_mut = y.copy()\n",
    "\n",
    "mi = mutual_info_classif(X_mut.fillna(0), y_mut)\n",
    "mi = pd.Series(mi)\n",
    "mi.index = X_mut.columns # add var names\n",
    "mi.sort_values(ascending=False) # sorting\n",
    "# top k=3 features\n",
    "sel = SelectKBest(mutual_info_classif, k=3).fit(X_mut.fillna(0), y_mut)\n",
    "print(X_mut.columns[sel.get_support()])"
   ]
  },
  {
   "cell_type": "code",
   "execution_count": 440,
   "id": "da6d8550",
   "metadata": {},
   "outputs": [
    {
     "data": {
      "text/plain": [
       "x1    0.076091\n",
       "x2    0.025157\n",
       "x3    0.046575\n",
       "x4    0.000000\n",
       "x5    0.000000\n",
       "dtype: float64"
      ]
     },
     "execution_count": 440,
     "metadata": {},
     "output_type": "execute_result"
    }
   ],
   "source": [
    "mi\n"
   ]
  },
  {
   "cell_type": "markdown",
   "id": "e15b7929",
   "metadata": {},
   "source": [
    "## Test de Fisher"
   ]
  },
  {
   "cell_type": "code",
   "execution_count": 441,
   "id": "fab1e215",
   "metadata": {},
   "outputs": [
    {
     "name": "stdout",
     "output_type": "stream",
     "text": [
      "x4    0.195830\n",
      "x5    0.239632\n",
      "x2    0.553629\n",
      "x3    0.776181\n",
      "x1    0.776186\n",
      "dtype: float64\n"
     ]
    }
   ],
   "source": [
    "X_fis = X.copy()\n",
    "y_fis = y.copy()\n",
    "\n",
    "# Fisher Test\n",
    "f_score = chi2(X_fis.fillna(0), y_fis)\n",
    "p_values = pd.Series(f_score[1])\n",
    "p_values.index = X_fis.columns\n",
    "p_values.sort_values(ascending=True, inplace=True)\n",
    "print (p_values)"
   ]
  },
  {
   "cell_type": "markdown",
   "id": "4c829ce7",
   "metadata": {},
   "source": [
    "## ANOVA"
   ]
  },
  {
   "cell_type": "code",
   "execution_count": 442,
   "id": "ef050a83",
   "metadata": {},
   "outputs": [
    {
     "name": "stdout",
     "output_type": "stream",
     "text": [
      "x1    0.714667\n",
      "x3    0.652885\n",
      "x2    0.420973\n",
      "x5    0.108387\n",
      "x4    0.074139\n",
      "dtype: float32\n"
     ]
    }
   ],
   "source": [
    "X_anova = X.copy()\n",
    "y_anova = y.copy()\n",
    "\n",
    "univariate = f_classif(X_anova.fillna(0), y_anova)\n",
    "univariate = pd.Series(univariate[1]) # p-value\n",
    "univariate.index = X_anova.columns\n",
    "univariate.sort_values(ascending=False, inplace=True)\n",
    "print (univariate)"
   ]
  },
  {
   "cell_type": "markdown",
   "id": "2e643e91",
   "metadata": {},
   "source": [
    "## ROC-AUC"
   ]
  },
  {
   "cell_type": "code",
   "execution_count": 443,
   "id": "d5c4a965",
   "metadata": {},
   "outputs": [
    {
     "name": "stdout",
     "output_type": "stream",
     "text": [
      "x1    0.518207\n",
      "x2    0.540616\n",
      "x3    0.522209\n",
      "x4    0.589636\n",
      "x5    0.580632\n",
      "dtype: float64\n"
     ]
    }
   ],
   "source": [
    "X_roc = X.copy()\n",
    "y_roc = y.copy()\n",
    "\n",
    "roc_vals = []\n",
    "for feat in X_roc.columns:\n",
    " \tclf = DecisionTreeClassifier()\n",
    " \tclf.fit(X_roc[feat].fillna(0).to_frame(), y_roc)\n",
    " \ty_scored = clf.predict_proba(X_roc[feat].fillna(0).to_frame())\n",
    " \troc_vals.append(roc_auc_score(y_roc, y_scored[:,1]))\n",
    "roc_vals = pd.Series(roc_vals)\n",
    "roc_vals.index = X_roc.columns\n",
    "selected_feats = roc_vals[roc_vals>0.5]\n",
    "print (selected_feats)"
   ]
  },
  {
   "cell_type": "markdown",
   "id": "ff676c85",
   "metadata": {},
   "source": [
    "## Markov Blanket"
   ]
  },
  {
   "cell_type": "code",
   "execution_count": 445,
   "id": "8fdf1211",
   "metadata": {},
   "outputs": [
    {
     "name": "stderr",
     "output_type": "stream",
     "text": [
      "Progress bar: 100%|██████████| 5/5 [00:02<00:00,  2.30it/s]"
     ]
    },
    {
     "name": "stdout",
     "output_type": "stream",
     "text": [
      "[]\n",
      "[]\n"
     ]
    },
    {
     "name": "stderr",
     "output_type": "stream",
     "text": [
      "\n"
     ]
    },
    {
     "ename": "ValueError",
     "evalue": "min() arg is an empty sequence",
     "output_type": "error",
     "traceback": [
      "\u001b[1;31m---------------------------------------------------------------------------\u001b[0m",
      "\u001b[1;31mValueError\u001b[0m                                Traceback (most recent call last)",
      "\u001b[1;32m~\\AppData\\Local\\Temp/ipykernel_6512/2283442184.py\u001b[0m in \u001b[0;36m<module>\u001b[1;34m\u001b[0m\n\u001b[0;32m     14\u001b[0m \u001b[1;33m\u001b[0m\u001b[0m\n\u001b[0;32m     15\u001b[0m \u001b[1;31m# Get a plot of the feature importance scores\u001b[0m\u001b[1;33m\u001b[0m\u001b[1;33m\u001b[0m\u001b[0m\n\u001b[1;32m---> 16\u001b[1;33m \u001b[0mmodel\u001b[0m\u001b[1;33m.\u001b[0m\u001b[0mfeature_importance\u001b[0m\u001b[1;33m(\u001b[0m\u001b[1;33m)\u001b[0m\u001b[1;33m\u001b[0m\u001b[1;33m\u001b[0m\u001b[0m\n\u001b[0m",
      "\u001b[1;32mC:\\ProgramData\\Anaconda3\\lib\\site-packages\\PyImpetus.py\u001b[0m in \u001b[0;36mfeature_importance\u001b[1;34m(self)\u001b[0m\n\u001b[0;32m    337\u001b[0m         \u001b[0mx_axis\u001b[0m \u001b[1;33m=\u001b[0m \u001b[0mself\u001b[0m\u001b[1;33m.\u001b[0m\u001b[0mfeat_imp_scores\u001b[0m\u001b[1;33m\u001b[0m\u001b[1;33m\u001b[0m\u001b[0m\n\u001b[0;32m    338\u001b[0m \u001b[1;33m\u001b[0m\u001b[0m\n\u001b[1;32m--> 339\u001b[1;33m         \u001b[0msns\u001b[0m\u001b[1;33m.\u001b[0m\u001b[0mbarplot\u001b[0m\u001b[1;33m(\u001b[0m\u001b[0mx\u001b[0m\u001b[1;33m=\u001b[0m\u001b[0mx_axis\u001b[0m\u001b[1;33m,\u001b[0m \u001b[0my\u001b[0m\u001b[1;33m=\u001b[0m\u001b[0my_axis\u001b[0m\u001b[1;33m,\u001b[0m \u001b[0morient\u001b[0m\u001b[1;33m=\u001b[0m\u001b[1;34m\"h\"\u001b[0m\u001b[1;33m)\u001b[0m\u001b[1;33m\u001b[0m\u001b[1;33m\u001b[0m\u001b[0m\n\u001b[0m\u001b[0;32m    340\u001b[0m         \u001b[0mplt\u001b[0m\u001b[1;33m.\u001b[0m\u001b[0myticks\u001b[0m\u001b[1;33m(\u001b[0m\u001b[0my_axis\u001b[0m\u001b[1;33m,\u001b[0m \u001b[1;33m[\u001b[0m\u001b[0mstr\u001b[0m\u001b[1;33m(\u001b[0m\u001b[0mi\u001b[0m\u001b[1;33m)\u001b[0m \u001b[1;32mfor\u001b[0m \u001b[0mi\u001b[0m \u001b[1;32min\u001b[0m \u001b[0mself\u001b[0m\u001b[1;33m.\u001b[0m\u001b[0mMB\u001b[0m\u001b[1;33m]\u001b[0m\u001b[1;33m,\u001b[0m \u001b[0msize\u001b[0m\u001b[1;33m=\u001b[0m\u001b[1;34m'small'\u001b[0m\u001b[1;33m)\u001b[0m\u001b[1;33m\u001b[0m\u001b[1;33m\u001b[0m\u001b[0m\n\u001b[0;32m    341\u001b[0m         \u001b[0mplt\u001b[0m\u001b[1;33m.\u001b[0m\u001b[0mxlabel\u001b[0m\u001b[1;33m(\u001b[0m\u001b[1;34m\"Importance Scores\"\u001b[0m\u001b[1;33m)\u001b[0m\u001b[1;33m\u001b[0m\u001b[1;33m\u001b[0m\u001b[0m\n",
      "\u001b[1;32mC:\\ProgramData\\Anaconda3\\lib\\site-packages\\seaborn\\_decorators.py\u001b[0m in \u001b[0;36minner_f\u001b[1;34m(*args, **kwargs)\u001b[0m\n\u001b[0;32m     44\u001b[0m             )\n\u001b[0;32m     45\u001b[0m         \u001b[0mkwargs\u001b[0m\u001b[1;33m.\u001b[0m\u001b[0mupdate\u001b[0m\u001b[1;33m(\u001b[0m\u001b[1;33m{\u001b[0m\u001b[0mk\u001b[0m\u001b[1;33m:\u001b[0m \u001b[0marg\u001b[0m \u001b[1;32mfor\u001b[0m \u001b[0mk\u001b[0m\u001b[1;33m,\u001b[0m \u001b[0marg\u001b[0m \u001b[1;32min\u001b[0m \u001b[0mzip\u001b[0m\u001b[1;33m(\u001b[0m\u001b[0msig\u001b[0m\u001b[1;33m.\u001b[0m\u001b[0mparameters\u001b[0m\u001b[1;33m,\u001b[0m \u001b[0margs\u001b[0m\u001b[1;33m)\u001b[0m\u001b[1;33m}\u001b[0m\u001b[1;33m)\u001b[0m\u001b[1;33m\u001b[0m\u001b[1;33m\u001b[0m\u001b[0m\n\u001b[1;32m---> 46\u001b[1;33m         \u001b[1;32mreturn\u001b[0m \u001b[0mf\u001b[0m\u001b[1;33m(\u001b[0m\u001b[1;33m**\u001b[0m\u001b[0mkwargs\u001b[0m\u001b[1;33m)\u001b[0m\u001b[1;33m\u001b[0m\u001b[1;33m\u001b[0m\u001b[0m\n\u001b[0m\u001b[0;32m     47\u001b[0m     \u001b[1;32mreturn\u001b[0m \u001b[0minner_f\u001b[0m\u001b[1;33m\u001b[0m\u001b[1;33m\u001b[0m\u001b[0m\n\u001b[0;32m     48\u001b[0m \u001b[1;33m\u001b[0m\u001b[0m\n",
      "\u001b[1;32mC:\\ProgramData\\Anaconda3\\lib\\site-packages\\seaborn\\categorical.py\u001b[0m in \u001b[0;36mbarplot\u001b[1;34m(x, y, hue, data, order, hue_order, estimator, ci, n_boot, units, seed, orient, color, palette, saturation, errcolor, errwidth, capsize, dodge, ax, **kwargs)\u001b[0m\n\u001b[0;32m   3180\u001b[0m ):\n\u001b[0;32m   3181\u001b[0m \u001b[1;33m\u001b[0m\u001b[0m\n\u001b[1;32m-> 3182\u001b[1;33m     plotter = _BarPlotter(x, y, hue, data, order, hue_order,\n\u001b[0m\u001b[0;32m   3183\u001b[0m                           \u001b[0mestimator\u001b[0m\u001b[1;33m,\u001b[0m \u001b[0mci\u001b[0m\u001b[1;33m,\u001b[0m \u001b[0mn_boot\u001b[0m\u001b[1;33m,\u001b[0m \u001b[0munits\u001b[0m\u001b[1;33m,\u001b[0m \u001b[0mseed\u001b[0m\u001b[1;33m,\u001b[0m\u001b[1;33m\u001b[0m\u001b[1;33m\u001b[0m\u001b[0m\n\u001b[0;32m   3184\u001b[0m                           \u001b[0morient\u001b[0m\u001b[1;33m,\u001b[0m \u001b[0mcolor\u001b[0m\u001b[1;33m,\u001b[0m \u001b[0mpalette\u001b[0m\u001b[1;33m,\u001b[0m \u001b[0msaturation\u001b[0m\u001b[1;33m,\u001b[0m\u001b[1;33m\u001b[0m\u001b[1;33m\u001b[0m\u001b[0m\n",
      "\u001b[1;32mC:\\ProgramData\\Anaconda3\\lib\\site-packages\\seaborn\\categorical.py\u001b[0m in \u001b[0;36m__init__\u001b[1;34m(self, x, y, hue, data, order, hue_order, estimator, ci, n_boot, units, seed, orient, color, palette, saturation, errcolor, errwidth, capsize, dodge)\u001b[0m\n\u001b[0;32m   1584\u001b[0m         self.establish_variables(x, y, hue, data, orient,\n\u001b[0;32m   1585\u001b[0m                                  order, hue_order, units)\n\u001b[1;32m-> 1586\u001b[1;33m         \u001b[0mself\u001b[0m\u001b[1;33m.\u001b[0m\u001b[0mestablish_colors\u001b[0m\u001b[1;33m(\u001b[0m\u001b[0mcolor\u001b[0m\u001b[1;33m,\u001b[0m \u001b[0mpalette\u001b[0m\u001b[1;33m,\u001b[0m \u001b[0msaturation\u001b[0m\u001b[1;33m)\u001b[0m\u001b[1;33m\u001b[0m\u001b[1;33m\u001b[0m\u001b[0m\n\u001b[0m\u001b[0;32m   1587\u001b[0m         \u001b[0mself\u001b[0m\u001b[1;33m.\u001b[0m\u001b[0mestimate_statistic\u001b[0m\u001b[1;33m(\u001b[0m\u001b[0mestimator\u001b[0m\u001b[1;33m,\u001b[0m \u001b[0mci\u001b[0m\u001b[1;33m,\u001b[0m \u001b[0mn_boot\u001b[0m\u001b[1;33m,\u001b[0m \u001b[0mseed\u001b[0m\u001b[1;33m)\u001b[0m\u001b[1;33m\u001b[0m\u001b[1;33m\u001b[0m\u001b[0m\n\u001b[0;32m   1588\u001b[0m \u001b[1;33m\u001b[0m\u001b[0m\n",
      "\u001b[1;32mC:\\ProgramData\\Anaconda3\\lib\\site-packages\\seaborn\\categorical.py\u001b[0m in \u001b[0;36mestablish_colors\u001b[1;34m(self, color, palette, saturation)\u001b[0m\n\u001b[0;32m    317\u001b[0m         \u001b[1;31m# Determine the gray color to use for the lines framing the plot\u001b[0m\u001b[1;33m\u001b[0m\u001b[1;33m\u001b[0m\u001b[0m\n\u001b[0;32m    318\u001b[0m         \u001b[0mlight_vals\u001b[0m \u001b[1;33m=\u001b[0m \u001b[1;33m[\u001b[0m\u001b[0mcolorsys\u001b[0m\u001b[1;33m.\u001b[0m\u001b[0mrgb_to_hls\u001b[0m\u001b[1;33m(\u001b[0m\u001b[1;33m*\u001b[0m\u001b[0mc\u001b[0m\u001b[1;33m)\u001b[0m\u001b[1;33m[\u001b[0m\u001b[1;36m1\u001b[0m\u001b[1;33m]\u001b[0m \u001b[1;32mfor\u001b[0m \u001b[0mc\u001b[0m \u001b[1;32min\u001b[0m \u001b[0mrgb_colors\u001b[0m\u001b[1;33m]\u001b[0m\u001b[1;33m\u001b[0m\u001b[1;33m\u001b[0m\u001b[0m\n\u001b[1;32m--> 319\u001b[1;33m         \u001b[0mlum\u001b[0m \u001b[1;33m=\u001b[0m \u001b[0mmin\u001b[0m\u001b[1;33m(\u001b[0m\u001b[0mlight_vals\u001b[0m\u001b[1;33m)\u001b[0m \u001b[1;33m*\u001b[0m \u001b[1;36m.6\u001b[0m\u001b[1;33m\u001b[0m\u001b[1;33m\u001b[0m\u001b[0m\n\u001b[0m\u001b[0;32m    320\u001b[0m         \u001b[0mgray\u001b[0m \u001b[1;33m=\u001b[0m \u001b[0mmpl\u001b[0m\u001b[1;33m.\u001b[0m\u001b[0mcolors\u001b[0m\u001b[1;33m.\u001b[0m\u001b[0mrgb2hex\u001b[0m\u001b[1;33m(\u001b[0m\u001b[1;33m(\u001b[0m\u001b[0mlum\u001b[0m\u001b[1;33m,\u001b[0m \u001b[0mlum\u001b[0m\u001b[1;33m,\u001b[0m \u001b[0mlum\u001b[0m\u001b[1;33m)\u001b[0m\u001b[1;33m)\u001b[0m\u001b[1;33m\u001b[0m\u001b[1;33m\u001b[0m\u001b[0m\n\u001b[0;32m    321\u001b[0m \u001b[1;33m\u001b[0m\u001b[0m\n",
      "\u001b[1;31mValueError\u001b[0m: min() arg is an empty sequence"
     ]
    }
   ],
   "source": [
    "df_mb = pd.DataFrame(XY)\n",
    "# Import the algorithm. PPIMBC is for classification and PPIMBR is for regression\n",
    "from PyImpetus import PPIMBC, PPIMBR\n",
    "# Initialize the PyImpetus object\n",
    "model = PPIMBC(model=SVC(random_state=27, class_weight=\"balanced\"), p_val_thresh=0.20, num_simul=30 , simul_size=0.4, simul_type=1, sig_test_type=\"non-parametric\", cv=5, random_state=27, n_jobs=-1, verbose=2)\n",
    "# The fit_transform function is a wrapper for the fit and transform functions, individually.\n",
    "# The fit function finds the MB for given data while transform function provides the pruned form of the dataset\n",
    "df_mb = model.fit_transform(df_mb.drop(\"y\", axis=1), df_mb[\"y\"].values)\n",
    "\n",
    "# Check out the MB\n",
    "print(model.MB)\n",
    "# Check out the feature importance scores for the selected feature subset\n",
    "print(model.feat_imp_scores)\n",
    "\n",
    "# Get a plot of the feature importance scores\n",
    "model.feature_importance()"
   ]
  },
  {
   "cell_type": "markdown",
   "id": "d222e23e",
   "metadata": {},
   "source": [
    "## Envoltura con Forward selection"
   ]
  },
  {
   "cell_type": "code",
   "execution_count": null,
   "id": "d2adb455",
   "metadata": {},
   "outputs": [],
   "source": [
    "X_train_wrap, X_test_wrap = X_train.copy(), X_test.copy()\n",
    "y_train_wrap, y_test_wrap = y_train.copy(), y_test.copy()\n",
    "\n",
    "clf_sfs = SFS(RandomForestClassifier(n_jobs=4), \n",
    " \t\t\t\tk_features=2, \n",
    " \t\t\t\tforward=True,\n",
    " \t\t\t\tfloating=False,\n",
    " \t\t\t\tverbose=2,\n",
    " \t\t\t\tscoring='roc_auc', \n",
    " \t\t\t\tcv=3 )\n",
    "clf_sfs = clf_sfs.fit(np.array(X_train_wrap.fillna(0)), y_train_wrap)\n",
    " \n",
    "selected_feats = X_train_wrap.columns[list(clf_sfs.k_feature_idx_)]\n",
    "\n",
    "print (selected_feats)\n",
    "rf = RandomForestClassifier(n_estimators=200, random_state=39, max_depth=4)\n",
    "rf.fit(X_train_wrap, y_train_wrap)\n",
    "print('Train set')\n",
    "pred = rf.predict_proba(X_train_wrap)\n",
    "print('Random Forests roc-auc: {}'.format(roc_auc_score(y_train_wrap, pred[:,1])))\n",
    "print('Test set')\n",
    "pred = rf.predict_proba(X_test_wrap)\n",
    "print('Random Forests roc-auc: {}'.format(roc_auc_score(y_test_wrap, pred[:,1])))"
   ]
  },
  {
   "cell_type": "markdown",
   "id": "8ff90e26",
   "metadata": {},
   "source": [
    "# ANÁLISIS DE COMPONENTES PRINCIPALES"
   ]
  },
  {
   "cell_type": "code",
   "execution_count": null,
   "id": "fe2e47a6",
   "metadata": {},
   "outputs": [],
   "source": [
    "X_train_pca, X_test_pca = X_train.copy(), X_test.copy()\n",
    "y_train_pca, y_test_pca = y_train.copy(), y_test.copy()\n",
    "\n",
    "# Entrenamiento modelo PCA con escalado de los datos\n",
    "# ==============================================================================\n",
    "pca_pipe = make_pipeline(StandardScaler(), PCA())\n",
    "pca_pipe.fit(X_train_pca)\n",
    "\n",
    "# Se extrae el modelo entrenado del pipeline\n",
    "modelo_pca = pca_pipe.named_steps['pca']\n",
    "\n",
    "# Se combierte el array a dataframe para añadir nombres a los ejes.\n",
    "pd.DataFrame(\n",
    "    data    = modelo_pca.components_,\n",
    "    columns = X_train_pca.columns,\n",
    "    index   = ['PC1', 'PC2', 'PC3', 'PC4', 'PC5']\n",
    ")\n"
   ]
  },
  {
   "cell_type": "code",
   "execution_count": null,
   "id": "3fff30d6",
   "metadata": {},
   "outputs": [],
   "source": [
    "# Heatmap componentes\n",
    "# ==============================================================================\n",
    "fig, ax = plt.subplots(nrows=1, ncols=1, figsize=(4, 2))\n",
    "componentes = modelo_pca.components_\n",
    "plt.imshow(componentes.T, cmap='viridis', aspect='auto')\n",
    "plt.yticks(range(len(X_train_pca.columns)), X_train_pca.columns)\n",
    "plt.xticks(range(len(X_train_pca.columns)), np.arange(modelo_pca.n_components_) + 1)\n",
    "plt.grid(False)\n",
    "plt.colorbar();"
   ]
  },
  {
   "cell_type": "code",
   "execution_count": null,
   "id": "1e17e59e",
   "metadata": {},
   "outputs": [],
   "source": [
    "# Porcentaje de varianza explicada por cada componente\n",
    "# ==============================================================================\n",
    "print('----------------------------------------------------')\n",
    "print('Porcentaje de varianza explicada por cada componente')\n",
    "print('----------------------------------------------------')\n",
    "print(modelo_pca.explained_variance_ratio_)\n",
    "\n",
    "fig, ax = plt.subplots(nrows=1, ncols=1, figsize=(6, 4))\n",
    "ax.bar(\n",
    "    x      = np.arange(modelo_pca.n_components_) + 1,\n",
    "    height = modelo_pca.explained_variance_ratio_\n",
    ")\n",
    "\n",
    "for x, y in zip(np.arange(len(X_train_pca.columns)) + 1, modelo_pca.explained_variance_ratio_):\n",
    "    label = round(y, 2)\n",
    "    ax.annotate(\n",
    "        label,\n",
    "        (x,y),\n",
    "        textcoords=\"offset points\",\n",
    "        xytext=(0,10),\n",
    "        ha='center'\n",
    "    )\n",
    "\n",
    "ax.set_xticks(np.arange(modelo_pca.n_components_) + 1)\n",
    "ax.set_ylim(0, 1.1)\n",
    "ax.set_title('Porcentaje de varianza explicada por cada componente')\n",
    "ax.set_xlabel('Componente principal')\n",
    "ax.set_ylabel('Por. varianza explicada');"
   ]
  },
  {
   "cell_type": "code",
   "execution_count": null,
   "id": "8ee77b84",
   "metadata": {},
   "outputs": [],
   "source": [
    "# Porcentaje de varianza explicada acumulada\n",
    "# ==============================================================================\n",
    "prop_varianza_acum = modelo_pca.explained_variance_ratio_.cumsum()\n",
    "print('------------------------------------------')\n",
    "print('Porcentaje de varianza explicada acumulada')\n",
    "print('------------------------------------------')\n",
    "print(prop_varianza_acum)\n",
    "\n",
    "fig, ax = plt.subplots(nrows=1, ncols=1, figsize=(6, 4))\n",
    "ax.plot(\n",
    "    np.arange(len(X_train_pca.columns)) + 1,\n",
    "    prop_varianza_acum,\n",
    "    marker = 'o'\n",
    ")\n",
    "\n",
    "for x, y in zip(np.arange(len(X_train_pca.columns)) + 1, prop_varianza_acum):\n",
    "    label = round(y, 2)\n",
    "    ax.annotate(\n",
    "        label,\n",
    "        (x,y),\n",
    "        textcoords=\"offset points\",\n",
    "        xytext=(0,10),\n",
    "        ha='center'\n",
    "    )\n",
    "    \n",
    "ax.set_ylim(0, 1.1)\n",
    "ax.set_xticks(np.arange(modelo_pca.n_components_) + 1)\n",
    "ax.set_title('Porcentaje de varianza explicada acumulada')\n",
    "ax.set_xlabel('Componente principal')\n",
    "ax.set_ylabel('Por. varianza acumulada');"
   ]
  },
  {
   "cell_type": "code",
   "execution_count": null,
   "id": "d9148ab9",
   "metadata": {},
   "outputs": [],
   "source": []
  }
 ],
 "metadata": {
  "kernelspec": {
   "display_name": "Python 3 (ipykernel)",
   "language": "python",
   "name": "python3"
  },
  "language_info": {
   "codemirror_mode": {
    "name": "ipython",
    "version": 3
   },
   "file_extension": ".py",
   "mimetype": "text/x-python",
   "name": "python",
   "nbconvert_exporter": "python",
   "pygments_lexer": "ipython3",
   "version": "3.9.7"
  }
 },
 "nbformat": 4,
 "nbformat_minor": 5
}
